{
 "cells": [
  {
   "cell_type": "markdown",
   "id": "a466bdf3-e8f3-40b2-a217-7f974200b58a",
   "metadata": {},
   "source": [
    "# Data Science Tools and Ecosystem"
   ]
  },
  {
   "cell_type": "markdown",
   "id": "318470a5-8410-4e42-b0db-ec73460c84f0",
   "metadata": {},
   "source": [
    "In this notebook, Data Science Tools and Ecosystem are summarized."
   ]
  },
  {
   "cell_type": "markdown",
   "id": "48985c56-9e61-497f-b25e-54a8dd033f94",
   "metadata": {},
   "source": [
    "**Objectives:**\n",
    "- List popular languages for Data Science\n",
    "- List commonly used libraries by Data Scientists\n",
    "- Data Science Tools\n",
    "- Arithmetic expressions in Python"
   ]
  },
  {
   "cell_type": "markdown",
   "id": "dcaa55a7-a153-40ec-9c01-656cc5baa96e",
   "metadata": {},
   "source": [
    "Some of the popular languages that Data Scientists use are:\n",
    "1. Python\n",
    "2. Julia\n",
    "3. R\n",
    "4. SQL"
   ]
  },
  {
   "cell_type": "markdown",
   "id": "1c9f4a43-1df0-4c00-a35c-9e9b9663b16a",
   "metadata": {},
   "source": [
    "Some of the commonly used libraries used by Data Scientists include:\n",
    "1. Pandas\n",
    "2. Numpy\n",
    "3. Matplotlib\n",
    "4. Seaborn\n",
    "5. PyTorch"
   ]
  },
  {
   "cell_type": "markdown",
   "id": "8ce8d5ea-53a7-4250-9f76-f6d8c7c78306",
   "metadata": {},
   "source": [
    "| **Data Science Tools** |\n",
    "| ------------------ |\n",
    "| RStudio |\n",
    "| Jupyter Notebook|\n",
    "| VSCode |"
   ]
  },
  {
   "cell_type": "markdown",
   "id": "779ae89f-8c07-4319-aa9c-47d05f56dd0e",
   "metadata": {},
   "source": [
    "### Below are a few examples of evaluating arithmetic expressions in Python."
   ]
  },
  {
   "cell_type": "markdown",
   "id": "17656587-d687-4f27-8329-ddbbee363285",
   "metadata": {},
   "source": [
    " This a simple arithmetic expression to mutiply then add integers."
   ]
  },
  {
   "cell_type": "code",
   "execution_count": 2,
   "id": "a181ae44-7c97-46a8-944e-68c0a110dfa2",
   "metadata": {},
   "outputs": [
    {
     "data": {
      "text/plain": [
       "17"
      ]
     },
     "execution_count": 2,
     "metadata": {},
     "output_type": "execute_result"
    }
   ],
   "source": [
    "(3*4)+5"
   ]
  },
  {
   "cell_type": "markdown",
   "id": "e78fd4ae-ad23-4d6b-91aa-ae901c8f051a",
   "metadata": {},
   "source": [
    "This will convert 200 minutes to hours by diving by 60."
   ]
  },
  {
   "cell_type": "code",
   "execution_count": 3,
   "id": "286258b6-05b9-4db3-b611-3a8abeb3bf66",
   "metadata": {},
   "outputs": [
    {
     "name": "stdout",
     "output_type": "stream",
     "text": [
      "3.3333333333333335\n"
     ]
    }
   ],
   "source": [
    "minutes=200\n",
    "hours=minutes/60\n",
    "print(hours)"
   ]
  },
  {
   "cell_type": "markdown",
   "id": "fa3c75aa-7fe5-465b-8d7b-5270de6aa9b5",
   "metadata": {},
   "source": [
    "## Author\n",
    "Yulia"
   ]
  },
  {
   "cell_type": "code",
   "execution_count": null,
   "id": "e4345edb-bdb8-4d13-b785-a124a47447d3",
   "metadata": {},
   "outputs": [],
   "source": []
  }
 ],
 "metadata": {
  "kernelspec": {
   "display_name": "anaconda-2024.02-py310",
   "language": "python",
   "name": "conda-env-anaconda-2024.02-py310-py"
  },
  "language_info": {
   "codemirror_mode": {
    "name": "ipython",
    "version": 3
   },
   "file_extension": ".py",
   "mimetype": "text/x-python",
   "name": "python",
   "nbconvert_exporter": "python",
   "pygments_lexer": "ipython3",
   "version": "3.10.14"
  }
 },
 "nbformat": 4,
 "nbformat_minor": 5
}
